{
  "cells": [
    {
      "cell_type": "markdown",
      "source": [
        "**ENVR 453: Groundwater Hydrology**\n",
        "\n",
        "Let's make sure this works for *everyone*"
      ],
      "metadata": {
        "id": "nVmSfzC6LIcX"
      }
    },
    {
      "cell_type": "markdown",
      "source": [
        "First, let's try installing dataretrieval so we can easily grab USGS data"
      ],
      "metadata": {
        "id": "LBUE3_CRLeup"
      }
    },
    {
      "cell_type": "code",
      "source": [
        "!pip install dataretrieval\n",
        "import dataretrieval.nwis as nwis"
      ],
      "metadata": {
        "colab": {
          "base_uri": "https://localhost:8080/"
        },
        "id": "EMjKKa-eLi9G",
        "outputId": "827bbece-b704-4923-98f7-0c062e5714a0"
      },
      "execution_count": 4,
      "outputs": [
        {
          "output_type": "stream",
          "name": "stdout",
          "text": [
            "Requirement already satisfied: dataretrieval in /usr/local/lib/python3.10/dist-packages (1.0.5)\n",
            "Requirement already satisfied: requests in /usr/local/lib/python3.10/dist-packages (from dataretrieval) (2.31.0)\n",
            "Requirement already satisfied: pandas in /usr/local/lib/python3.10/dist-packages (from dataretrieval) (1.5.3)\n",
            "Requirement already satisfied: python-dateutil>=2.8.1 in /usr/local/lib/python3.10/dist-packages (from pandas->dataretrieval) (2.8.2)\n",
            "Requirement already satisfied: pytz>=2020.1 in /usr/local/lib/python3.10/dist-packages (from pandas->dataretrieval) (2023.3)\n",
            "Requirement already satisfied: numpy>=1.21.0 in /usr/local/lib/python3.10/dist-packages (from pandas->dataretrieval) (1.23.5)\n",
            "Requirement already satisfied: charset-normalizer<4,>=2 in /usr/local/lib/python3.10/dist-packages (from requests->dataretrieval) (3.2.0)\n",
            "Requirement already satisfied: idna<4,>=2.5 in /usr/local/lib/python3.10/dist-packages (from requests->dataretrieval) (3.4)\n",
            "Requirement already satisfied: urllib3<3,>=1.21.1 in /usr/local/lib/python3.10/dist-packages (from requests->dataretrieval) (2.0.4)\n",
            "Requirement already satisfied: certifi>=2017.4.17 in /usr/local/lib/python3.10/dist-packages (from requests->dataretrieval) (2023.7.22)\n",
            "Requirement already satisfied: six>=1.5 in /usr/local/lib/python3.10/dist-packages (from python-dateutil>=2.8.1->pandas->dataretrieval) (1.16.0)\n"
          ]
        }
      ]
    },
    {
      "cell_type": "markdown",
      "source": [
        "Now, we can look at data from the USGS site located on the Haw River in Haw River, NC.\n",
        "\n",
        "Here is a link to the web interface: https://waterdata.usgs.gov/monitoring-location/02096500/#parameterCode=00065&period=P7D"
      ],
      "metadata": {
        "id": "eg66bgtzMM6_"
      }
    },
    {
      "cell_type": "code",
      "source": [
        "### HAW RIVER AT HAW RIVER, NC\n",
        "upSiteID = '02096500'\n",
        "upSite = nwis.get_record(sites=upSiteID, service='site')\n",
        "print(upSite)"
      ],
      "metadata": {
        "colab": {
          "base_uri": "https://localhost:8080/"
        },
        "id": "SC6qUf3jMgVJ",
        "outputId": "365d9057-f58e-4b24-984a-2c31a7875624"
      },
      "execution_count": 7,
      "outputs": [
        {
          "output_type": "stream",
          "name": "stdout",
          "text": [
            "  agency_cd   site_no                  station_nm site_tp_cd  lat_va  long_va  \\\n",
            "0      USGS  02096500  HAW RIVER AT HAW RIVER, NC         ST  360514   792158   \n",
            "\n",
            "   dec_lat_va  dec_long_va coord_meth_cd coord_acy_cd  ... local_time_fg  \\\n",
            "0   36.087222   -79.366111             G            S  ...             Y   \n",
            "\n",
            "  reliability_cd  gw_file_cd  nat_aqfr_cd  aqfr_cd aqfr_type_cd  \\\n",
            "0            NaN    NYNNNNNN          NaN      NaN          NaN   \n",
            "\n",
            "   well_depth_va hole_depth_va  depth_src_cd  project_no  \n",
            "0            NaN           NaN           NaN         NaN  \n",
            "\n",
            "[1 rows x 42 columns]\n"
          ]
        }
      ]
    },
    {
      "cell_type": "markdown",
      "source": [],
      "metadata": {
        "id": "LjeAJMOdMzdo"
      }
    }
  ],
  "metadata": {
    "language_info": {
      "name": "python"
    },
    "orig_nbformat": 4,
    "colab": {
      "provenance": []
    },
    "kernelspec": {
      "name": "python3",
      "display_name": "Python 3"
    }
  },
  "nbformat": 4,
  "nbformat_minor": 0
}