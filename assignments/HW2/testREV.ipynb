{
 "cells": [
  {
   "cell_type": "code",
   "execution_count": 1,
   "metadata": {},
   "outputs": [
    {
     "name": "stdout",
     "output_type": "stream",
     "text": [
      "\n",
      "Circle Packing in Progress...\n"
     ]
    }
   ],
   "source": [
    "import REV\n",
    "\n",
    "# Set Domain Size\n",
    "domain = [1.,1.]\n",
    "\n",
    "# Set Desired Porosity\n",
    "# For a low porosity value, the code may time out and stop. \n",
    "porosity = 0.6\n",
    "\n",
    "# Set Distribution and Paramters for Solid Radius\n",
    "# Distribution can be 'normal','uniform', or 'lognormal'\n",
    "# Parameter Values are\n",
    "# 'uniform' -> [minValue,maxValue]\n",
    "# 'normal' -> [mean,standard deviation]\n",
    "# 'lognormal' -> [mean,standard deviation]\n",
    "\n",
    "dist ='lognormal' \n",
    "param = [0.01,0.001] \n",
    "\n",
    "# Generate Solids\n",
    "packing = REV.circlePacking(domain,porosity,dist,param)\n",
    "packing.generate_packing()\n",
    "packing.plot_packing() \n",
    "\n",
    "# Digitize Porous Media\n",
    "digi = REV.digitizedDomain(packing, nodes = [200,200])\n",
    "digi.generate_domain()\n",
    "\n",
    "# Plot the Domain\n",
    "digi.plot_domain()\n",
    "\n",
    "# Sample Porous Media and calculate porosity\n",
    "digi.sample_domain()\n",
    "\n",
    "# Plot porosity vs sample area\n",
    "digi.plot_sample()\n",
    "\n"
   ]
  }
 ],
 "metadata": {
  "kernelspec": {
   "display_name": "base",
   "language": "python",
   "name": "python3"
  },
  "language_info": {
   "codemirror_mode": {
    "name": "ipython",
    "version": 3
   },
   "file_extension": ".py",
   "mimetype": "text/x-python",
   "name": "python",
   "nbconvert_exporter": "python",
   "pygments_lexer": "ipython3",
   "version": "3.11.3"
  },
  "orig_nbformat": 4
 },
 "nbformat": 4,
 "nbformat_minor": 2
}
